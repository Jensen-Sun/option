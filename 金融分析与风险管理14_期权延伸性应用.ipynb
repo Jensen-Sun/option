{
 "cells": [
  {
   "cell_type": "code",
   "execution_count": 1,
   "id": "04653274",
   "metadata": {},
   "outputs": [],
   "source": [
    "import numpy as np\n",
    "import pandas as pd\n",
    "import matplotlib.pyplot as plt\n",
    "from pylab import mpl\n",
    "mpl.rcParams['font.sans-serif']=['FangSong']\n",
    "mpl.rcParams['axes.unicode_minus']=False\n",
    "from pandas.plotting import register_matplotlib_converters\n",
    "register_matplotlib_converters()"
   ]
  },
  {
   "cell_type": "code",
   "execution_count": 2,
   "id": "f9323220",
   "metadata": {},
   "outputs": [],
   "source": [
    "price_Sun=pd.read_excel('C:/Users/jay/Desktop/金融分析与风险管理/配套数据/第14章/超日太阳股票收盘价（2012年8月至2014年2月）.xlsx',\n",
    "                       sheet_name=\"Sheet1\",header=0,index_col=0)"
   ]
  },
  {
   "cell_type": "code",
   "execution_count": 3,
   "id": "95652272",
   "metadata": {},
   "outputs": [],
   "source": [
    "return_Sun=np.log(price_Sun/price_Sun.shift(1))"
   ]
  },
  {
   "cell_type": "code",
   "execution_count": 4,
   "id": "fa766e92",
   "metadata": {},
   "outputs": [
    {
     "name": "stdout",
     "output_type": "stream",
     "text": [
      "超日太阳股票收益率的年化波动率 0.4238\n"
     ]
    },
    {
     "name": "stderr",
     "output_type": "stream",
     "text": [
      "C:\\Users\\jay\\AppData\\Local\\Temp\\ipykernel_18212\\2752325827.py:2: FutureWarning: Calling float on a single element Series is deprecated and will raise a TypeError in the future. Use float(ser.iloc[0]) instead\n",
      "  sigma_Sun=float(sigma_Sun) #转换为浮点型数据\n"
     ]
    }
   ],
   "source": [
    "sigma_Sun=np.sqrt(252)*np.std(return_Sun) #计算股票年化波动率\n",
    "sigma_Sun=float(sigma_Sun) #转换为浮点型数据\n",
    "print('超日太阳股票收益率的年化波动率',round(sigma_Sun,4))"
   ]
  },
  {
   "cell_type": "code",
   "execution_count": 5,
   "id": "ede84d52",
   "metadata": {},
   "outputs": [],
   "source": [
    "equity=21.85 #2014年2月19日股票总市值（亿元）\n",
    "debt=63.90 #2013年9月末公司债金额（亿元）\n",
    "tenor=1 #z债券期限为1年\n",
    "rate=0.050001 #2024年2月19日1年前Shibor（无风险收益率）"
   ]
  },
  {
   "cell_type": "code",
   "execution_count": 6,
   "id": "1b8d8d0a",
   "metadata": {},
   "outputs": [],
   "source": [
    "def f(x): #通过自定义一个函数计算企业价值和企业价值的年化波动率\n",
    "    from numpy import exp,log,sqrt\n",
    "    from scipy.stats import norm\n",
    "    V,sigma_V=x #设定两个变量分别是当前企业价值和企业价值的年化波动率\n",
    "    d1=(log(V/debt)+(rate+pow(sigma_V,2)/2)*tenor)/(sigma_V*sqrt(tenor)) #计算参数d1\n",
    "    d2=d1-sigma_V*sqrt(tenor)\n",
    "    eq1=V*norm.cdf(d1)-debt*exp(-rate*tenor)*norm.cdf(d2)-equity\n",
    "    eq2=sigma_Sun*equity-norm.cdf(d1)*sigma_V*V\n",
    "    return [eq1,eq2]"
   ]
  },
  {
   "cell_type": "code",
   "execution_count": 7,
   "id": "11a7922e",
   "metadata": {},
   "outputs": [],
   "source": [
    "import scipy.optimize as sco"
   ]
  },
  {
   "cell_type": "code",
   "execution_count": 8,
   "id": "330ddbad",
   "metadata": {},
   "outputs": [],
   "source": [
    "result=sco.fsolve(func=f,x0=[80,0.5]) #设定初始值分别是企业价值80亿元和企业价值的年化波动率50%"
   ]
  },
  {
   "cell_type": "code",
   "execution_count": 9,
   "id": "64463c9e",
   "metadata": {},
   "outputs": [
    {
     "name": "stdout",
     "output_type": "stream",
     "text": [
      "计算得到2014年2月19日超日太阳的企业价值（亿元） 82.6259\n",
      "计算得到超日太阳企业价值的年化波动率 0.1124\n"
     ]
    }
   ],
   "source": [
    "print('计算得到2014年2月19日超日太阳的企业价值（亿元）',round(result[0],4))\n",
    "print('计算得到超日太阳企业价值的年化波动率',round(result[-1],4))"
   ]
  },
  {
   "cell_type": "code",
   "execution_count": 10,
   "id": "151dfdfd",
   "metadata": {},
   "outputs": [],
   "source": [
    "def PD_Merton(E,D,V,sigma,r,T):\n",
    "    '''定义一个运用默顿模型计算企业违约概率的函数\n",
    "    E:代表当前的股票市值（亿元）\n",
    "    D:代表债务本金（亿元）\n",
    "    V:代表当前的企业价值（亿元）\n",
    "    sigma:代表企业价值的年化波动率\n",
    "    r:代表无风险收益率\n",
    "    T:代表债务的期限'''\n",
    "    from numpy import log,sqrt\n",
    "    from scipy.stats import norm\n",
    "    d1=(log(V/D)+(r+pow(sigma,2)/2)*T)/(sigma*sqrt(T))\n",
    "    d2=d1-sigma*sqrt(T)\n",
    "    PD=norm.cdf(-d2)\n",
    "    return PD"
   ]
  },
  {
   "cell_type": "code",
   "execution_count": 11,
   "id": "a4b9eac5",
   "metadata": {},
   "outputs": [],
   "source": [
    "PD_Sun=PD_Merton(E=equity,D=debt,V=result[0],sigma=result[-1],r=rate,T=tenor) #计算违约概率"
   ]
  },
  {
   "cell_type": "code",
   "execution_count": 12,
   "id": "894b77e4",
   "metadata": {},
   "outputs": [
    {
     "name": "stdout",
     "output_type": "stream",
     "text": [
      "2014年2月19日超日太阳的违约概率 0.003725\n"
     ]
    }
   ],
   "source": [
    "print('2014年2月19日超日太阳的违约概率',round(PD_Sun,6))"
   ]
  },
  {
   "cell_type": "code",
   "execution_count": 13,
   "id": "b9564229",
   "metadata": {},
   "outputs": [],
   "source": [
    "equity_new=70.75 #2011年12月30日股票总市值（亿元）\n",
    "debt_new=28.02 #2011年9月末负债金额（亿元）\n",
    "rate_new=0.052378 #2011年12月30日1年期Shibor\n",
    "sigma_new=0.4654 #股票的年化波动率"
   ]
  },
  {
   "cell_type": "code",
   "execution_count": 14,
   "id": "c0260611",
   "metadata": {},
   "outputs": [],
   "source": [
    "def g(x): #重新定义一个函数用于计算企业价值和企业价值的年化波动率\n",
    "    from numpy import exp,log,sqrt\n",
    "    from scipy.stats import norm\n",
    "    V,sigma_V=x\n",
    "    d1=(log(V/debt_new)+(rate_new+pow(sigma_V,2)/2)*tenor)/(sigma_V*sqrt(tenor))\n",
    "    d2=d1-sigma_V*sqrt(tenor)\n",
    "    eq1=V*norm.cdf(d1)-debt_new*exp(-rate_new*tenor)*norm.cdf(d2)-equity_new\n",
    "    eq2=sigma_new*equity_new-norm.cdf(d1)*sigma_V*V\n",
    "    return [eq1,eq2]"
   ]
  },
  {
   "cell_type": "code",
   "execution_count": 15,
   "id": "7a250a02",
   "metadata": {},
   "outputs": [
    {
     "name": "stdout",
     "output_type": "stream",
     "text": [
      "2011年12月30日超日太阳的企业价值（亿元） 97.3399\n",
      "超日太阳企业价值的年化波动率 0.3383\n"
     ]
    }
   ],
   "source": [
    "result_new=sco.fsolve(func=g,x0=[80,0.5]) #设定初始值分别是企业价值80亿元和企业价值的年化波动率50%\n",
    "print('2011年12月30日超日太阳的企业价值（亿元）',round(result_new[0],4))\n",
    "print('超日太阳企业价值的年化波动率',round(result_new[-1],4))"
   ]
  },
  {
   "cell_type": "code",
   "execution_count": 16,
   "id": "adfc1e2f",
   "metadata": {},
   "outputs": [
    {
     "name": "stdout",
     "output_type": "stream",
     "text": [
      "2011年12月30日超日太阳的违约概率 0.000123\n"
     ]
    }
   ],
   "source": [
    "PD_Sun_new=PD_Merton(E=equity_new,D=debt_new,V=result_new[0],sigma=result_new[-1],r=rate_new,T=tenor)\n",
    "print('2011年12月30日超日太阳的违约概率',round(PD_Sun_new,6))"
   ]
  },
  {
   "cell_type": "code",
   "execution_count": 17,
   "id": "c11d755d",
   "metadata": {},
   "outputs": [
    {
     "name": "stdout",
     "output_type": "stream",
     "text": [
      "2014年2月19日违约概率与2011年末违约概率的倍数 30.35\n"
     ]
    }
   ],
   "source": [
    "M=PD_Sun/PD_Sun_new\n",
    "print('2014年2月19日违约概率与2011年末违约概率的倍数',round(M,2))"
   ]
  },
  {
   "cell_type": "code",
   "execution_count": 18,
   "id": "1a8f1b4c",
   "metadata": {},
   "outputs": [],
   "source": [
    "data_CB=pd.read_excel('C:/Users/jay/Desktop/金融分析与风险管理/配套数据/第14章/可转换债券数量和存续金额（2010年至2020年）.xlsx',\n",
    "                     sheet_name=\"Sheet1\",header=0,index_col=0)"
   ]
  },
  {
   "cell_type": "code",
   "execution_count": 19,
   "id": "b5376033",
   "metadata": {},
   "outputs": [
    {
     "data": {
      "text/plain": [
       "Text(0, 0.5, '数量或金额')"
      ]
     },
     "execution_count": 19,
     "metadata": {},
     "output_type": "execute_result"
    },
    {
     "data": {
      "image/png": "[encoded data removed]",
      "text/plain": [
       "<Figure size 900x600 with 2 Axes>"
      ]
     },
     "metadata": {},
     "output_type": "display_data"
    }
   ],
   "source": [
    "data_CB.plot(kind='bar',subplots=True,layout=(1,2),figsize=(9,6),grid=True,fontsize=13)\n",
    "plt.subplot(1,2,1)\n",
    "plt.ylabel(u'数量或金额',fontsize=11)"
   ]
  },
  {
   "cell_type": "code",
   "execution_count": 26,
   "id": "f3f711ce",
   "metadata": {},
   "outputs": [],
   "source": [
    "def value_CB(S,sigma,par,X,Lambda,r,R,Q2,T,N):\n",
    "    '''定义一个运用N步二叉树模型计算可转换债券（可转债）价值的函数，同时假定可转债是一份零息债券\n",
    "    S:代表股票的初始价格\n",
    "    sigma:代表股票收益率的年化波动率\n",
    "    par:代表可转债本金\n",
    "    X:代表1份可转债转换为股票的股数（转股比例）\n",
    "    Lambda:代表连续复利的年化违约概率\n",
    "    r:代表连续复利的无风险收益率\n",
    "    R:代表可转债违约时的回收率\n",
    "    Q2:代表可转债的赎回价格\n",
    "    T:代表可转债的期限（年）\n",
    "    N:代表二叉树模型的步数'''\n",
    "    #第一步，计算相关参数\n",
    "    t=T/N\n",
    "    u=np.exp(np.sqrt((pow(sigma,2)-Lambda)*t))\n",
    "    d=1/u\n",
    "    Pu=(np.exp(r*t)-d*np.exp(-Lambda*t))/(u-d)\n",
    "    Pd=(u*np.exp(-Lambda*t)-np.exp(r*t))/(u-d)\n",
    "    P_default=1-np.exp(-Lambda*t) #计算违约的概率\n",
    "    D_value=par*R #可转债违约时的回收价值\n",
    "    CB_matrix=np.zeros((N+1,N+1))\n",
    "    #第二步，计算可转债到期时节点的股份与债券价格\n",
    "    N_list=np.arange(0,N+1)\n",
    "    S_end=S*pow(u,N-N_list)*pow(d,N_list) #计算可转债到期时节点的股价\n",
    "    Q1=par\n",
    "    Q3=X*S_end\n",
    "    CB_matrix[:,-1]=np.maximum(np.minimum(Q1,Q2),Q3)\n",
    "    #第三步，计算可转债非到期时节点的股价与债券价值\n",
    "    i_list=list(range(0,N))\n",
    "    i_list.reverse()\n",
    "    for i in i_list:\n",
    "        j_list=np.arange(i+1)\n",
    "        Si=S*pow(u,i-j_list)*pow(d,j_list)\n",
    "        Q1=np.exp(-r*t)*(Pu*CB_matrix[:i+1,i+1]+Pd*CB_matrix[1:i+2,i+1]+P_default*D_value)\n",
    "        Q3=X*Si\n",
    "        CB_matrix[:i+1,i]=np.maximum(np.minimum(Q1,Q2),Q3)\n",
    "    V0=CB_matrix[0,0]\n",
    "    return V0"
   ]
  },
  {
   "cell_type": "code",
   "execution_count": 27,
   "id": "6869ccff",
   "metadata": {},
   "outputs": [],
   "source": [
    "tenor=9/12 #可转换债券的期限\n",
    "step1=3 #二叉树模型的步数为3步"
   ]
  },
  {
   "cell_type": "code",
   "execution_count": 28,
   "id": "89d333de",
   "metadata": {},
   "outputs": [],
   "source": [
    "S0=50 #股票的初始价格\n",
    "sigma_A=0.2 #股票收益率的年化波动率\n",
    "par_CB=100 #可转换债券的本金\n",
    "share=2 #每份可转换债券转换为股票的数量"
   ]
  },
  {
   "cell_type": "code",
   "execution_count": 29,
   "id": "5296cf54",
   "metadata": {},
   "outputs": [],
   "source": [
    "Lambda_A=0.01 #连续复利的年化违约概率\n",
    "rate=0.05 #连续复利的无风险收益率\n",
    "R_A=0.4 #违约回收率\n",
    "Q2_A=110 #可转换债券的赎回价格"
   ]
  },
  {
   "cell_type": "code",
   "execution_count": 30,
   "id": "045b4952",
   "metadata": {},
   "outputs": [
    {
     "name": "stdout",
     "output_type": "stream",
     "text": [
      "运用三步二叉树模型计算可转换债券初始价值 104.2012\n"
     ]
    }
   ],
   "source": [
    "V1_CB=value_CB(S=S0,sigma=sigma_A,par=par_CB,X=share,Lambda=Lambda_A,r=rate,R=R_A,Q2=Q2_A,T=tenor,N=step1)\n",
    "print('运用三步二叉树模型计算可转换债券初始价值',round(V1_CB,4))"
   ]
  },
  {
   "cell_type": "code",
   "execution_count": 31,
   "id": "371e4e2c",
   "metadata": {},
   "outputs": [],
   "source": [
    "step2=100"
   ]
  },
  {
   "cell_type": "code",
   "execution_count": 32,
   "id": "8adeb2b0",
   "metadata": {},
   "outputs": [
    {
     "name": "stdout",
     "output_type": "stream",
     "text": [
      "运用100步二叉树模型计算可转换债券初始价值 103.69\n"
     ]
    }
   ],
   "source": [
    "V2_CB=value_CB(S=S0,sigma=sigma_A,par=par_CB,X=share,Lambda=Lambda_A,r=rate,R=R_A,Q2=Q2_A,T=tenor,N=step2)\n",
    "print('运用100步二叉树模型计算可转换债券初始价值',round(V2_CB,4))"
   ]
  },
  {
   "cell_type": "code",
   "execution_count": 34,
   "id": "9cba0437",
   "metadata": {},
   "outputs": [],
   "source": [
    "step3=300"
   ]
  },
  {
   "cell_type": "code",
   "execution_count": 35,
   "id": "6851daa8",
   "metadata": {},
   "outputs": [
    {
     "name": "stdout",
     "output_type": "stream",
     "text": [
      "运用300步二叉树模型计算可转换债券初始价值 103.5598\n"
     ]
    }
   ],
   "source": [
    "V3_CB=value_CB(S=S0,sigma=sigma_A,par=par_CB,X=share,Lambda=Lambda_A,r=rate,R=R_A,Q2=Q2_A,T=tenor,N=step3)\n",
    "print('运用300步二叉树模型计算可转换债券初始价值',round(V3_CB,4))"
   ]
  },
  {
   "cell_type": "code",
   "execution_count": 36,
   "id": "3e0bc72b",
   "metadata": {},
   "outputs": [],
   "source": [
    "def Black_model(F,K,sigma,r,T,typ):\n",
    "    '''定义一个运用布莱克模型计算欧式期货期权价格的函数\n",
    "    F:代表标的期货合约的当前价格\n",
    "    K:代表期货期权的行权价格\n",
    "    sigma:代表期货收益率的年化波动率\n",
    "    r:代表连续复利的无风险收益率\n",
    "    T:代表期货期权的剩余期限（年）\n",
    "    typ:代表期货期权类型'''\n",
    "    from numpy import exp,log,sqrt\n",
    "    from scipy.stats import norm\n",
    "    d1=(log(F/K)+pow(sigma,2)*T/2)/(sigma*sqrt(T))\n",
    "    d2=d1-sigma*sqrt(T)\n",
    "    if typ=='call':\n",
    "        price=exp(-r*T)*(F*norm.cdf(d1)-K*norm.cdf(d2))\n",
    "    else:\n",
    "        price=exp(-r*T)*(K*norm.cdf(-d2)-F*norm.cdf(-d1))\n",
    "    return price"
   ]
  },
  {
   "cell_type": "code",
   "execution_count": 37,
   "id": "1b62ca83",
   "metadata": {},
   "outputs": [],
   "source": [
    "price_AU2012=pd.read_excel('C:/Users/jay/Desktop/金融分析与风险管理/配套数据/第14章/黄金期货AU2012合约结算价（2019年11月18日至2020年9月11日）.xlsx',\n",
    "                          sheet_name=\"Sheet1\",header=0,index_col=0)"
   ]
  },
  {
   "cell_type": "code",
   "execution_count": 38,
   "id": "da3c2a31",
   "metadata": {},
   "outputs": [],
   "source": [
    "return_AU2012=np.log(price_AU2012/price_AU2012.shift(1))"
   ]
  },
  {
   "cell_type": "code",
   "execution_count": 39,
   "id": "c3664a3b",
   "metadata": {},
   "outputs": [
    {
     "name": "stdout",
     "output_type": "stream",
     "text": [
      "黄金期货AU2012合约收益率的年化波动率 0.1757\n"
     ]
    },
    {
     "name": "stderr",
     "output_type": "stream",
     "text": [
      "C:\\Users\\jay\\AppData\\Local\\Temp\\ipykernel_18212\\3225051020.py:2: FutureWarning: Calling float on a single element Series is deprecated and will raise a TypeError in the future. Use float(ser.iloc[0]) instead\n",
      "  Sigma_AU2012=float(Sigma_AU2012)\n"
     ]
    }
   ],
   "source": [
    "Sigma_AU2012=np.sqrt(252)*np.std(return_AU2012)\n",
    "Sigma_AU2012=float(Sigma_AU2012)\n",
    "print('黄金期货AU2012合约收益率的年化波动率',round(Sigma_AU2012,4))"
   ]
  },
  {
   "cell_type": "code",
   "execution_count": 40,
   "id": "76daabee",
   "metadata": {},
   "outputs": [],
   "source": [
    "import datetime as dt"
   ]
  },
  {
   "cell_type": "code",
   "execution_count": 41,
   "id": "a6edc7fe",
   "metadata": {},
   "outputs": [],
   "source": [
    "t0=dt.datetime(2020,9,11)\n",
    "t1=dt.datetime(2020,11,24)\n",
    "tenor=(t1-t0).days/365"
   ]
  },
  {
   "cell_type": "code",
   "execution_count": 42,
   "id": "dfe375b6",
   "metadata": {},
   "outputs": [],
   "source": [
    "strike=380 #期货期权的行权价格\n",
    "shibor_Sep11=0.02697 #2020年9月11日的无风险收益率\n",
    "price_Sep11=420.36 #2020年9月11日期货结算价"
   ]
  },
  {
   "cell_type": "code",
   "execution_count": 43,
   "id": "7bdf0a75",
   "metadata": {},
   "outputs": [
    {
     "name": "stdout",
     "output_type": "stream",
     "text": [
      "2020年9月11日黄金2012购380期权合约（看涨期货期权）的价格 41.645\n",
      "2020年9月11日黄金2012沽380期权合约（看跌期货期权）的价格 1.5051\n"
     ]
    }
   ],
   "source": [
    "price_call=Black_model(F=price_Sep11,K=strike,sigma=Sigma_AU2012,r=shibor_Sep11,T=tenor,typ='call')\n",
    "price_put=Black_model(F=price_Sep11,K=strike,sigma=Sigma_AU2012,r=shibor_Sep11,T=tenor,typ='put')\n",
    "print('2020年9月11日黄金2012购380期权合约（看涨期货期权）的价格',round(price_call,4))\n",
    "print('2020年9月11日黄金2012沽380期权合约（看跌期货期权）的价格',round(price_put,4))"
   ]
  },
  {
   "cell_type": "code",
   "execution_count": 45,
   "id": "7ce1a688",
   "metadata": {},
   "outputs": [],
   "source": [
    "def FutOption_call_Amer(F,K,sigma,r,T,N):\n",
    "    '''定义运用N步二叉树模型计算美式看涨期货期权价值的函数\n",
    "    F:代表标的期货合约的当前价格\n",
    "    K:代表期货期权的行权价格\n",
    "    sigma:代表标的期货收益率的波动率（年化）\n",
    "    r:代表连续复利的无风险收益率\n",
    "    T:代表期货期权的期限（年）\n",
    "    N:代表二叉树模型的步数'''\n",
    "    t=T/N\n",
    "    u=np.exp(sigma*np.sqrt(t))\n",
    "    d=1/u\n",
    "    p=(1-d)/(u-d)\n",
    "    call_matrix=np.zeros((N+1,N+1))\n",
    "    N_list=np.arange(0,N+1)\n",
    "    F_end=F*pow(u,N-N_list)*pow(d,N_list)\n",
    "    call_matrix[:,-1]=np.maximum(F_end-K,0)\n",
    "    i_list=list(range(0,N))\n",
    "    i_list.reverse()\n",
    "    for i in i_list:\n",
    "        j_list=np.arange(i+1)\n",
    "        Fi=F*pow(u,i-j_list)*pow(d,j_list)\n",
    "        call_strike=np.maximum(Fi-K,0)\n",
    "        call_nostrike=np.exp(-r*t)*(p*call_matrix[:i+1,i+1]+(1-p)*call_matrix[1:i+2,i+1])\n",
    "        call_matrix[:i+1,i]=np.maximum(call_strike,call_nostrike)\n",
    "    call_begin=call_matrix[0,0]\n",
    "    return call_begin"
   ]
  },
  {
   "cell_type": "code",
   "execution_count": 54,
   "id": "36db2800",
   "metadata": {},
   "outputs": [],
   "source": [
    "def FutOption_put_Amer(F,K,sigma,r,T,N):\n",
    "    '''定义运用N步二叉树模型计算美式看跌期货期权价值的函数\n",
    "    F:代表标的期货合约的当前价格\n",
    "    K:代表期货期权的行权价格\n",
    "    sigma:代表标的期货收益率的波动率（年化）\n",
    "    r:代表连续复利的无风险收益率\n",
    "    T:代表期货期权的期限（年）\n",
    "    N:代表二叉树模型的步数'''\n",
    "    t=T/N\n",
    "    u=np.exp(sigma*np.sqrt(t))\n",
    "    d=1/u\n",
    "    p=(1-d)/(u-d)\n",
    "    put_matrix=np.zeros((N+1,N+1))\n",
    "    N_list=np.arange(0,N+1)\n",
    "    F_end=F*pow(u,N-N_list)*pow(d,N_list)\n",
    "    put_matrix[:,-1]=np.maximum(K-F_end,0)\n",
    "    i_list=list(range(0,N))\n",
    "    i_list.reverse()\n",
    "    for i in i_list:\n",
    "        j_list=np.arange(i+1)\n",
    "        Fi=F*pow(u,i-j_list)*pow(d,j_list)\n",
    "        put_strike=np.maximum(K-Fi,0)\n",
    "        put_nostrike=np.exp(-r*t)*(p*put_matrix[:i+1,i+1]+(1-p)*put_matrix[1:i+2,i+1])\n",
    "        put_matrix[:i+1,i]=np.maximum(put_strike,put_nostrike)\n",
    "    put_begin=put_matrix[0,0]\n",
    "    return put_begin"
   ]
  },
  {
   "cell_type": "code",
   "execution_count": 55,
   "id": "62e49c00",
   "metadata": {},
   "outputs": [],
   "source": [
    "price_M2103=pd.read_excel('C:/Users/jay/Desktop/金融分析与风险管理/配套数据/第14章/豆粕期货2103合约结算价（2020年3月16日至11月5日）.xlsx',\n",
    "                         sheet_name=\"Sheet1\",header=0,index_col=0)"
   ]
  },
  {
   "cell_type": "code",
   "execution_count": 56,
   "id": "7a8da1dc",
   "metadata": {},
   "outputs": [],
   "source": [
    "return_M2103=np.log(price_M2103/price_M2103.shift(1))"
   ]
  },
  {
   "cell_type": "code",
   "execution_count": 57,
   "id": "dfd20446",
   "metadata": {},
   "outputs": [
    {
     "name": "stdout",
     "output_type": "stream",
     "text": [
      "豆粕期货M2103合约收益率的年化波动率 0.1285\n"
     ]
    },
    {
     "name": "stderr",
     "output_type": "stream",
     "text": [
      "C:\\Users\\jay\\AppData\\Local\\Temp\\ipykernel_18212\\501861378.py:2: FutureWarning: Calling float on a single element Series is deprecated and will raise a TypeError in the future. Use float(ser.iloc[0]) instead\n",
      "  sigma_M2103=float(sigma_M2103)\n"
     ]
    }
   ],
   "source": [
    "sigma_M2103=np.sqrt(252)*np.std(return_M2103)\n",
    "sigma_M2103=float(sigma_M2103)\n",
    "print('豆粕期货M2103合约收益率的年化波动率',round(sigma_M2103,4))"
   ]
  },
  {
   "cell_type": "code",
   "execution_count": 58,
   "id": "db9b903c",
   "metadata": {},
   "outputs": [],
   "source": [
    "T_3M=3/12\n",
    "strike=3000\n",
    "shibor_Nov5=0.02996\n",
    "price_Nov5=3221\n",
    "step=100"
   ]
  },
  {
   "cell_type": "code",
   "execution_count": 59,
   "id": "c702ac2f",
   "metadata": {},
   "outputs": [],
   "source": [
    "value_Amercall=FutOption_call_Amer(F=price_Nov5,K=strike,sigma=sigma_M2103,r=shibor_Nov5,T=T_3M,N=step)\n",
    "value_Amerput=FutOption_put_Amer(F=price_Nov5,K=strike,sigma=sigma_M2103,r=shibor_Nov5,T=T_3M,N=step)"
   ]
  },
  {
   "cell_type": "code",
   "execution_count": 60,
   "id": "fae90f46",
   "metadata": {},
   "outputs": [
    {
     "name": "stdout",
     "output_type": "stream",
     "text": [
      "2020年11月5日豆粕2013购3000期权合约（美式看涨）的价值 233.4664\n",
      "2020年11月5日豆粕2013沽3000期权合约（美式看跌）的价值 13.5038\n"
     ]
    }
   ],
   "source": [
    "print('2020年11月5日豆粕2013购3000期权合约（美式看涨）的价值',round(value_Amercall,4))\n",
    "print('2020年11月5日豆粕2013沽3000期权合约（美式看跌）的价值',round(value_Amerput,4))"
   ]
  },
  {
   "cell_type": "code",
   "execution_count": 77,
   "id": "9cf91137",
   "metadata": {},
   "outputs": [],
   "source": [
    "def caplet(L,R,F,Rk,sigma,t1,t2):\n",
    "    '''定义一个计算利率上限单元价值的函数\n",
    "    L:代表利率上限单元的本金，也就是利率上限期权的本金\n",
    "    R:代表连续复利的无风险收益率\n",
    "    F:代表初始0时刻观察到的从ti时刻至ti+1时刻期间的远期利率\n",
    "    Rk:代表上限利率（行权价格）\n",
    "    t1:代表ti时刻，以年为单位\n",
    "    t2:代表ti+1时刻，以年为单位'''\n",
    "    from numpy import exp,log,sqrt\n",
    "    from scipy.stats import norm\n",
    "    d1=(log(F/Rk)+0.5*pow(sigma,2)*t1)/(sigma*sqrt(t1))\n",
    "    d2=d1-sigma*sqrt(t1)\n",
    "    tau=t2-t1\n",
    "    value=L*tau*exp(-R*t2)*(F*norm.cdf(d1)-Rk*norm.cdf(d2))\n",
    "    return value"
   ]
  },
  {
   "cell_type": "code",
   "execution_count": 78,
   "id": "8f1edab3",
   "metadata": {},
   "outputs": [],
   "source": [
    "shibor_list=pd.read_excel('C:/Users/jay/Desktop/金融分析与风险管理/配套数据/第14章/Shibor利率（2019年1月至2020年3月20日）.xlsx',\n",
    "                         sheet_name=\"Sheet1\",header=0,index_col=0)"
   ]
  },
  {
   "cell_type": "code",
   "execution_count": 79,
   "id": "2c9d5f8f",
   "metadata": {},
   "outputs": [
    {
     "data": {
      "text/plain": [
       "Index(['SHIBOR(3M)', 'SHIBOR(6M)', 'SHIBOR(9M)', 'SHIBOR(12M)'], dtype='object')"
      ]
     },
     "execution_count": 79,
     "metadata": {},
     "output_type": "execute_result"
    }
   ],
   "source": [
    "shibor_list.columns #查看列明"
   ]
  },
  {
   "cell_type": "code",
   "execution_count": 80,
   "id": "2fdff863",
   "metadata": {},
   "outputs": [],
   "source": [
    "def Rf(R1,R2,T1,T2):\n",
    "    '''定义一个计算远期利率的函数\n",
    "    R1:表示对应期限为T1的零息利率\n",
    "    R2:笔试对应期限为T2的零息利率\n",
    "    T1:表示对应于零息利率R1的期限长度（年）\n",
    "    T2:表示对应于零息利率R2的期限长度（年）'''\n",
    "    forward_rate=R2+(R2-R1)*T1/(T2-T1) #计算远期利率\n",
    "    return forward_rate"
   ]
  },
  {
   "cell_type": "code",
   "execution_count": 81,
   "id": "4e975660",
   "metadata": {},
   "outputs": [],
   "source": [
    "FR1_list=Rf(R1=shibor_list['SHIBOR(3M)'],R2=shibor_list['SHIBOR(6M)'],T1=3/12,T2=6/12) #3个月后的远期3个月期Shibor\n",
    "FR2_list=Rf(R1=shibor_list['SHIBOR(6M)'],R2=shibor_list['SHIBOR(9M)'],T1=6/12,T2=9/12) #6个月后的远期3个月期Shibor\n",
    "FR3_list=Rf(R1=shibor_list['SHIBOR(9M)'],R2=shibor_list['SHIBOR(12M)'],T1=9/12,T2=12/12) #9个月后的远期3个月期Shibor"
   ]
  },
  {
   "cell_type": "code",
   "execution_count": 82,
   "id": "5c63ccef",
   "metadata": {},
   "outputs": [],
   "source": [
    "return_FR1=np.log(FR1_list/FR1_list.shift(1))\n",
    "return_FR2=np.log(FR2_list/FR2_list.shift(1))\n",
    "return_FR3=np.log(FR3_list/FR3_list.shift(1))"
   ]
  },
  {
   "cell_type": "code",
   "execution_count": 83,
   "id": "5f18aea6",
   "metadata": {},
   "outputs": [],
   "source": [
    "sigma_FR1=np.sqrt(252)*return_FR1.std()\n",
    "sigma_FR2=np.sqrt(252)*return_FR2.std()\n",
    "sigma_FR3=np.sqrt(252)*return_FR3.std()"
   ]
  },
  {
   "cell_type": "code",
   "execution_count": 84,
   "id": "6a21f636",
   "metadata": {},
   "outputs": [
    {
     "name": "stdout",
     "output_type": "stream",
     "text": [
      "3个月后的远期3个月Shibor的年化波动率 0.064905\n",
      "6个月后的远期3个月Shibor的年化波动率 0.073253\n",
      "9个月后的远期3个月Shibor的年化波动率 0.081398\n"
     ]
    }
   ],
   "source": [
    "print('3个月后的远期3个月Shibor的年化波动率',round(sigma_FR1,6))\n",
    "print('6个月后的远期3个月Shibor的年化波动率',round(sigma_FR2,6))\n",
    "print('9个月后的远期3个月Shibor的年化波动率',round(sigma_FR3,6))"
   ]
  },
  {
   "cell_type": "code",
   "execution_count": 85,
   "id": "640c1a7d",
   "metadata": {},
   "outputs": [],
   "source": [
    "FR1_Mar20=FR1_list[-1]\n",
    "FR2_Mar20=FR2_list[-1]\n",
    "FR3_Mar20=FR3_list[-1]"
   ]
  },
  {
   "cell_type": "code",
   "execution_count": 86,
   "id": "0e8898d1",
   "metadata": {},
   "outputs": [],
   "source": [
    "R_6M=0.017049\n",
    "R_9M=0.018499\n",
    "R_12M=0.018682"
   ]
  },
  {
   "cell_type": "code",
   "execution_count": 87,
   "id": "d7ea5f12",
   "metadata": {},
   "outputs": [],
   "source": [
    "par=1e8\n",
    "cap_rate=0.022 #上限利率"
   ]
  },
  {
   "cell_type": "code",
   "execution_count": 88,
   "id": "80af40d3",
   "metadata": {},
   "outputs": [],
   "source": [
    "caplet1=caplet(L=par,R=R_6M,F=FR1_Mar20,Rk=cap_rate,sigma=sigma_FR1,t1=3/12,t2=6/12)\n",
    "caplet2=caplet(L=par,R=R_9M,F=FR2_Mar20,Rk=cap_rate,sigma=sigma_FR2,t1=6/12,t2=9/12)\n",
    "caplet3=caplet(L=par,R=R_12M,F=FR3_Mar20,Rk=cap_rate,sigma=sigma_FR3,t1=9/12,t2=12/12)"
   ]
  },
  {
   "cell_type": "code",
   "execution_count": 89,
   "id": "78274d4f",
   "metadata": {},
   "outputs": [
    {
     "name": "stdout",
     "output_type": "stream",
     "text": [
      "利率重置日2020年6月20日、收益支付日2020年9月20日的利率上限单元价值 37081.21\n",
      "利率重置日2020年9月20日、收益支付日2020年12月20日的利率上限单元价值 96163.37\n",
      "利率重置日2020年12月20日、收益支付日2021年3月20日的利率上限单元价值 129080.1\n"
     ]
    }
   ],
   "source": [
    "print('利率重置日2020年6月20日、收益支付日2020年9月20日的利率上限单元价值',round(caplet1,2))\n",
    "print('利率重置日2020年9月20日、收益支付日2020年12月20日的利率上限单元价值',round(caplet2,2))\n",
    "print('利率重置日2020年12月20日、收益支付日2021年3月20日的利率上限单元价值',round(caplet3,2))"
   ]
  },
  {
   "cell_type": "code",
   "execution_count": 90,
   "id": "73011ba4",
   "metadata": {},
   "outputs": [
    {
     "name": "stdout",
     "output_type": "stream",
     "text": [
      "2020年3月20日利率上限期权的价值 262324.68\n"
     ]
    }
   ],
   "source": [
    "cap=caplet1+caplet2+caplet3 #设置利率上限期权的价值\n",
    "print('2020年3月20日利率上限期权的价值',round(cap,2))"
   ]
  },
  {
   "cell_type": "code",
   "execution_count": 91,
   "id": "f0bc62ab",
   "metadata": {},
   "outputs": [],
   "source": [
    "def floorlet(L,R,F,Rk,sigma,t1,t2):\n",
    "    '''定义一个计算利率下限单元价值的函数'''\n",
    "    from numpy import exp,log,sqrt\n",
    "    from scipy.stats import norm\n",
    "    d1=(log(F/Rk)+pow(sigma,2)*t1/2)/(sigma*sqrt(t1))\n",
    "    d2=d1-sigma*sqrt(t1)\n",
    "    tau=t2-t1\n",
    "    value=L*tau*exp(-R*t2)*(Rk*norm.cdf(-d2)-F*norm.cdf(-d1))\n",
    "    return value"
   ]
  },
  {
   "cell_type": "code",
   "execution_count": 92,
   "id": "4f848fd5",
   "metadata": {},
   "outputs": [],
   "source": [
    "floor_rate=0.025 #下限利率"
   ]
  },
  {
   "cell_type": "code",
   "execution_count": 93,
   "id": "c824ea72",
   "metadata": {},
   "outputs": [],
   "source": [
    "floorlet1=floorlet(L=par,R=R_6M,F=FR1_Mar20,Rk=floor_rate,sigma=sigma_FR1,t1=3/12,t2=6/12)\n",
    "floorlet2=floorlet(L=par,R=R_9M,F=FR2_Mar20,Rk=floor_rate,sigma=sigma_FR2,t1=6/12,t2=9/12)\n",
    "floorlet3=floorlet(L=par,R=R_12M,F=FR3_Mar20,Rk=floor_rate,sigma=sigma_FR3,t1=9/12,t2=12/12)"
   ]
  },
  {
   "cell_type": "code",
   "execution_count": 94,
   "id": "91a35d35",
   "metadata": {},
   "outputs": [
    {
     "name": "stdout",
     "output_type": "stream",
     "text": [
      "利率重置日2020年6月20日、收益支付日2020年9月20日的利率下限单元的价值 37634.23\n",
      "利率重置日2020年9月20日、收益支付日2020年12月20日的利率下限单元的价值 4779.06\n",
      "利率重置日2020年12月20日、收益支付日2021年3月20日的利率下限单元的价值 2391.65\n"
     ]
    }
   ],
   "source": [
    "print('利率重置日2020年6月20日、收益支付日2020年9月20日的利率下限单元的价值',round(floorlet1,2))\n",
    "print('利率重置日2020年9月20日、收益支付日2020年12月20日的利率下限单元的价值',round(floorlet2,2))\n",
    "print('利率重置日2020年12月20日、收益支付日2021年3月20日的利率下限单元的价值',round(floorlet3,2))"
   ]
  },
  {
   "cell_type": "code",
   "execution_count": 95,
   "id": "b6c69dc0",
   "metadata": {},
   "outputs": [
    {
     "name": "stdout",
     "output_type": "stream",
     "text": [
      "2020年3月20日利率下限期权的价值 44804.94\n"
     ]
    }
   ],
   "source": [
    "floor=floorlet1+floorlet2+floorlet3 #计算利率下限期权的价值\n",
    "print('2020年3月20日利率下限期权的价值',round(floor,2))"
   ]
  },
  {
   "cell_type": "code",
   "execution_count": 96,
   "id": "83f746f2",
   "metadata": {},
   "outputs": [],
   "source": [
    "par_new=1e9\n",
    "cap_rate_new=0.029 #上限利率\n",
    "floor_rate_new=0.023 #下限利率"
   ]
  },
  {
   "cell_type": "code",
   "execution_count": 97,
   "id": "9fa4e34d",
   "metadata": {},
   "outputs": [],
   "source": [
    "caplet1_new=caplet(L=par_new,R=R_6M,F=FR1_Mar20,Rk=cap_rate_new,sigma=sigma_FR1,t1=3/12,t2=6/12)\n",
    "caplet2_new=caplet(L=par_new,R=R_9M,F=FR2_Mar20,Rk=cap_rate_new,sigma=sigma_FR2,t1=6/12,t2=9/12)\n",
    "caplet3_new=caplet(L=par_new,R=R_12M,F=FR3_Mar20,Rk=cap_rate_new,sigma=sigma_FR3,t1=9/12,t2=12/12)"
   ]
  },
  {
   "cell_type": "code",
   "execution_count": 98,
   "id": "9bc4fd34",
   "metadata": {},
   "outputs": [],
   "source": [
    "floorlet1_new=floorlet(L=par_new,R=R_6M,F=FR1_Mar20,Rk=floor_rate_new,sigma=sigma_FR1,t1=3/12,t2=6/12)\n",
    "floorlet2_new=floorlet(L=par_new,R=R_9M,F=FR2_Mar20,Rk=floor_rate_new,sigma=sigma_FR2,t1=6/12,t2=9/12)\n",
    "floorlet3_new=floorlet(L=par_new,R=R_12M,F=FR3_Mar20,Rk=floor_rate_new,sigma=sigma_FR3,t1=9/12,t2=12/12)"
   ]
  },
  {
   "cell_type": "code",
   "execution_count": 99,
   "id": "84557219",
   "metadata": {},
   "outputs": [
    {
     "name": "stdout",
     "output_type": "stream",
     "text": [
      "2020年3月20日利率双限期权中的利率上限期权价值 52643.84\n"
     ]
    }
   ],
   "source": [
    "cap_new=caplet1_new+caplet2_new+caplet3_new\n",
    "print('2020年3月20日利率双限期权中的利率上限期权价值',round(cap_new,2))"
   ]
  },
  {
   "cell_type": "code",
   "execution_count": 100,
   "id": "9aecc5f9",
   "metadata": {},
   "outputs": [
    {
     "name": "stdout",
     "output_type": "stream",
     "text": [
      "2020年3月20日利率双限期权中的利率下限期权价值 31376.4\n"
     ]
    }
   ],
   "source": [
    "floor_new=floorlet1_new+floorlet2_new+floorlet3_new\n",
    "print('2020年3月20日利率双限期权中的利率下限期权价值',round(floor_new,2))"
   ]
  },
  {
   "cell_type": "code",
   "execution_count": 101,
   "id": "1d569c41",
   "metadata": {},
   "outputs": [
    {
     "name": "stdout",
     "output_type": "stream",
     "text": [
      "2020年3月20日利率双限期权多头头寸的价值 21267.44\n"
     ]
    }
   ],
   "source": [
    "collar_long=cap_new-floor_new\n",
    "print('2020年3月20日利率双限期权多头头寸的价值',round(collar_long,2))"
   ]
  },
  {
   "cell_type": "code",
   "execution_count": 103,
   "id": "0ffe9454",
   "metadata": {},
   "outputs": [],
   "source": [
    "def swaption(L,Sf,Sk,m,sigma,t,n,R_list,direction):\n",
    "    '''定义一个计算利率互换期权价值的函数\n",
    "    L:代表利率互换期权的本金\n",
    "    Sf:代表远期互换利率\n",
    "    Sk:代表利率互换合约的固定利率\n",
    "    m:代表每年利率支付频次（复利频次）\n",
    "    sigma:代表远期互换利率的年化波动率\n",
    "    t;代表期权的期限（年）\n",
    "    n:代表对应利率互换合约的期限（年）\n",
    "    R_list:代表期权定价日距离利率互换每期利息支付日的期限Ti对应的无风险收益率（连续复利）\n",
    "    direction:代表期权多头是否在利率互换中支付固定利息，输入direction=‘pay’代表支付固定利息，输入其他则代表收取固定利息'''\n",
    "    from numpy import arange,exp,log,sqrt\n",
    "    from scipy.stats import norm\n",
    "    d1=(log(Sf/Sk)+pow(sigma,2)*t/2)/(sigma*sqrt(t))\n",
    "    d2=d1-sigma*sqrt(t)\n",
    "    T_list=t+arange(1,m*n+1)/m\n",
    "    if direction=='pay':\n",
    "        value=np.sum(exp(-R_list*T_list)*L*(Sf*norm.cdf(d1)-Sk*norm.cdf(d2))/m)\n",
    "    else:\n",
    "        value=np.sum(exp(-R_list*T_list)*L*(Sk*norm.cdf(-d2)-Sf*norm.cdf(-d1))/m)\n",
    "    return value"
   ]
  },
  {
   "cell_type": "code",
   "execution_count": 104,
   "id": "33502d9f",
   "metadata": {},
   "outputs": [],
   "source": [
    "def forward_swaprate(S_list,t,n,m):\n",
    "    '''定义一个计算远期互换利率的函数\n",
    "    S_list:代表在利率互换期权初始日观察到不同期限的互换利率，以数组格式输入\n",
    "    t:代表期权的期限（年）\n",
    "    n:代表利率互换合约的期限（年）\n",
    "    m:代表每年利率支付频次（复利频次）'''\n",
    "    t_list=m*t+np.arange(1,m*n+1)\n",
    "    A=pow(1+S_list[0]/m,-m*t)-pow(1+S_list[-1]/m,-m*(t+n))\n",
    "    B=(1/m)*np.sum(pow(1+S_list[1:]/m,-t_list))\n",
    "    value=A/B\n",
    "    return value"
   ]
  },
  {
   "cell_type": "code",
   "execution_count": 105,
   "id": "7691c40e",
   "metadata": {},
   "outputs": [],
   "source": [
    "swaprate_list=pd.read_excel('C:/Users/jay/Desktop/金融分析与风险管理/配套数据/第14章/Shibor互换利率数据（2019年1月至2020年9月1日）.xlsx',\n",
    "                           sheet_name=\"Sheet1\",header=0,index_col=0)"
   ]
  },
  {
   "cell_type": "code",
   "execution_count": 106,
   "id": "9accb648",
   "metadata": {},
   "outputs": [
    {
     "data": {
      "text/plain": [
       "Index(['Shibor互换利率（6个月）', 'Shibor互换利率（9个月）', 'Shibor互换利率（1年）'], dtype='object')"
      ]
     },
     "execution_count": 106,
     "metadata": {},
     "output_type": "execute_result"
    }
   ],
   "source": [
    "swaprate_list.columns"
   ]
  },
  {
   "cell_type": "code",
   "execution_count": 107,
   "id": "5213f960",
   "metadata": {},
   "outputs": [
    {
     "data": {
      "text/plain": [
       "DatetimeIndex(['2019-01-02', '2019-01-03', '2019-01-04', '2019-01-07',\n",
       "               '2019-01-08', '2019-01-09', '2019-01-10', '2019-01-11',\n",
       "               '2019-01-14', '2019-01-15',\n",
       "               ...\n",
       "               '2020-08-19', '2020-08-20', '2020-08-21', '2020-08-24',\n",
       "               '2020-08-25', '2020-08-26', '2020-08-27', '2020-08-28',\n",
       "               '2020-08-31', '2020-09-01'],\n",
       "              dtype='datetime64[ns]', name='日期', length=416, freq=None)"
      ]
     },
     "execution_count": 107,
     "metadata": {},
     "output_type": "execute_result"
    }
   ],
   "source": [
    "swaprate_list.index"
   ]
  },
  {
   "cell_type": "code",
   "execution_count": 108,
   "id": "ea428fed",
   "metadata": {},
   "outputs": [],
   "source": [
    "T_swaption=0.5\n",
    "T_swap=0.5\n",
    "M=4"
   ]
  },
  {
   "cell_type": "code",
   "execution_count": 109,
   "id": "7bab3a1a",
   "metadata": {},
   "outputs": [
    {
     "data": {
      "text/plain": [
       "array([0., 0., 0., 0., 0., 0., 0., 0., 0., 0., 0., 0., 0., 0., 0., 0., 0.,\n",
       "       0., 0., 0., 0., 0., 0., 0., 0., 0., 0., 0., 0., 0., 0., 0., 0., 0.,\n",
       "       0., 0., 0., 0., 0., 0., 0., 0., 0., 0., 0., 0., 0., 0., 0., 0., 0.,\n",
       "       0., 0., 0., 0., 0., 0., 0., 0., 0., 0., 0., 0., 0., 0., 0., 0., 0.,\n",
       "       0., 0., 0., 0., 0., 0., 0., 0., 0., 0., 0., 0., 0., 0., 0., 0., 0.,\n",
       "       0., 0., 0., 0., 0., 0., 0., 0., 0., 0., 0., 0., 0., 0., 0., 0., 0.,\n",
       "       0., 0., 0., 0., 0., 0., 0., 0., 0., 0., 0., 0., 0., 0., 0., 0., 0.,\n",
       "       0., 0., 0., 0., 0., 0., 0., 0., 0., 0., 0., 0., 0., 0., 0., 0., 0.,\n",
       "       0., 0., 0., 0., 0., 0., 0., 0., 0., 0., 0., 0., 0., 0., 0., 0., 0.,\n",
       "       0., 0., 0., 0., 0., 0., 0., 0., 0., 0., 0., 0., 0., 0., 0., 0., 0.,\n",
       "       0., 0., 0., 0., 0., 0., 0., 0., 0., 0., 0., 0., 0., 0., 0., 0., 0.,\n",
       "       0., 0., 0., 0., 0., 0., 0., 0., 0., 0., 0., 0., 0., 0., 0., 0., 0.,\n",
       "       0., 0., 0., 0., 0., 0., 0., 0., 0., 0., 0., 0., 0., 0., 0., 0., 0.,\n",
       "       0., 0., 0., 0., 0., 0., 0., 0., 0., 0., 0., 0., 0., 0., 0., 0., 0.,\n",
       "       0., 0., 0., 0., 0., 0., 0., 0., 0., 0., 0., 0., 0., 0., 0., 0., 0.,\n",
       "       0., 0., 0., 0., 0., 0., 0., 0., 0., 0., 0., 0., 0., 0., 0., 0., 0.,\n",
       "       0., 0., 0., 0., 0., 0., 0., 0., 0., 0., 0., 0., 0., 0., 0., 0., 0.,\n",
       "       0., 0., 0., 0., 0., 0., 0., 0., 0., 0., 0., 0., 0., 0., 0., 0., 0.,\n",
       "       0., 0., 0., 0., 0., 0., 0., 0., 0., 0., 0., 0., 0., 0., 0., 0., 0.,\n",
       "       0., 0., 0., 0., 0., 0., 0., 0., 0., 0., 0., 0., 0., 0., 0., 0., 0.,\n",
       "       0., 0., 0., 0., 0., 0., 0., 0., 0., 0., 0., 0., 0., 0., 0., 0., 0.,\n",
       "       0., 0., 0., 0., 0., 0., 0., 0., 0., 0., 0., 0., 0., 0., 0., 0., 0.,\n",
       "       0., 0., 0., 0., 0., 0., 0., 0., 0., 0., 0., 0., 0., 0., 0., 0., 0.,\n",
       "       0., 0., 0., 0., 0., 0., 0., 0., 0., 0., 0., 0., 0., 0., 0., 0., 0.,\n",
       "       0., 0., 0., 0., 0., 0., 0., 0.])"
      ]
     },
     "execution_count": 109,
     "metadata": {},
     "output_type": "execute_result"
    }
   ],
   "source": [
    "forward_list=np.zeros(len(swaprate_list.index))\n",
    "forward_list"
   ]
  },
  {
   "cell_type": "code",
   "execution_count": 110,
   "id": "59bc4a66",
   "metadata": {},
   "outputs": [],
   "source": [
    "for i in range(len(swaprate_list.index)):\n",
    "    forward_list[i]=forward_swaprate(S_list=swaprate_list.iloc[i],t=T_swaption,n=T_swap,m=M)"
   ]
  },
  {
   "cell_type": "code",
   "execution_count": 113,
   "id": "f8fd49a4",
   "metadata": {},
   "outputs": [],
   "source": [
    "forward_list=pd.DataFrame(data=forward_list,index=swaprate_list.index,columns=['远期互换利率'])"
   ]
  },
  {
   "cell_type": "code",
   "execution_count": 114,
   "id": "87c87648",
   "metadata": {},
   "outputs": [
    {
     "data": {
      "text/plain": [
       "Text(0, 0.5, '利率')"
      ]
     },
     "execution_count": 114,
     "metadata": {},
     "output_type": "execute_result"
    },
    {
     "data": {
      "image/png": "[encoded data removed]",
      "text/plain": [
       "<Figure size 900x600 with 1 Axes>"
      ]
     },
     "metadata": {},
     "output_type": "display_data"
    }
   ],
   "source": [
    "forward_list.plot(figsize=(9,6),grid=True)\n",
    "plt.ylabel(u'利率',fontsize=11)"
   ]
  },
  {
   "cell_type": "code",
   "execution_count": 115,
   "id": "eb1b6212",
   "metadata": {},
   "outputs": [],
   "source": [
    "return_forward=np.log(forward_list/forward_list.shift(1)) #计算2019年1月至2020年9月1日期间远期互换利率的每日百分比变化"
   ]
  },
  {
   "cell_type": "code",
   "execution_count": 116,
   "id": "bd5cbf29",
   "metadata": {},
   "outputs": [
    {
     "name": "stdout",
     "output_type": "stream",
     "text": [
      "计算得到远期互换利率的年化波动率 0.40548\n"
     ]
    },
    {
     "name": "stderr",
     "output_type": "stream",
     "text": [
      "C:\\Users\\jay\\AppData\\Local\\Temp\\ipykernel_18212\\23887741.py:2: FutureWarning: Calling float on a single element Series is deprecated and will raise a TypeError in the future. Use float(ser.iloc[0]) instead\n",
      "  sigma_forward=float(sigma_forward)\n"
     ]
    }
   ],
   "source": [
    "sigma_forward=np.sqrt(252)*return_forward.std()\n",
    "sigma_forward=float(sigma_forward)\n",
    "print('计算得到远期互换利率的年化波动率',round(sigma_forward,6))"
   ]
  },
  {
   "cell_type": "code",
   "execution_count": 117,
   "id": "cbfc1fbf",
   "metadata": {},
   "outputs": [
    {
     "name": "stdout",
     "output_type": "stream",
     "text": [
      "2020年9月1日的远期互换利率 0.03035\n"
     ]
    },
    {
     "name": "stderr",
     "output_type": "stream",
     "text": [
      "C:\\Users\\jay\\AppData\\Local\\Temp\\ipykernel_18212\\267892022.py:1: FutureWarning: Calling float on a single element Series is deprecated and will raise a TypeError in the future. Use float(ser.iloc[0]) instead\n",
      "  forward_Sep1=float(forward_list.iloc[-1])\n"
     ]
    }
   ],
   "source": [
    "forward_Sep1=float(forward_list.iloc[-1])\n",
    "print('2020年9月1日的远期互换利率',round(forward_Sep1,6))"
   ]
  },
  {
   "cell_type": "code",
   "execution_count": 118,
   "id": "16d28e48",
   "metadata": {},
   "outputs": [],
   "source": [
    "par=1e8\n",
    "rate_fixed=0.029"
   ]
  },
  {
   "cell_type": "code",
   "execution_count": 119,
   "id": "1551c3e7",
   "metadata": {},
   "outputs": [],
   "source": [
    "R_norisk=np.array(swaprate_list.iloc[-1])"
   ]
  },
  {
   "cell_type": "code",
   "execution_count": 121,
   "id": "fd1e0812",
   "metadata": {},
   "outputs": [],
   "source": [
    "def Rc(Rm,m):\n",
    "    '''定义一个已知复利频次和对应的复利利率，计算连续复利利率的函数\n",
    "    Rm:代表复利频次为m的复利利率\n",
    "    m:代表复利频次'''\n",
    "    r=m*np.log(1+Rm/m)\n",
    "    return r"
   ]
  },
  {
   "cell_type": "code",
   "execution_count": 122,
   "id": "d3877603",
   "metadata": {},
   "outputs": [],
   "source": [
    "Rc_norisk=Rc(Rm=R_norisk,m=M)\n",
    "Rc_9M_12M=Rc_norisk[1:]"
   ]
  },
  {
   "cell_type": "code",
   "execution_count": 123,
   "id": "fd0ed031",
   "metadata": {},
   "outputs": [
    {
     "name": "stdout",
     "output_type": "stream",
     "text": [
      "2020年9月1日利率互换期权的价值 133988.26\n"
     ]
    }
   ],
   "source": [
    "value=swaption(L=par,Sf=forward_Sep1,Sk=rate_fixed,m=M,sigma=sigma_forward,t=T_swaption,n=T_swap,R_list=Rc_9M_12M,direction='receive')\n",
    "print('2020年9月1日利率互换期权的价值',round(value,2))"
   ]
  }
 ],
 "metadata": {
  "kernelspec": {
   "display_name": "Python 3 (ipykernel)",
   "language": "python",
   "name": "python3"
  },
  "language_info": {
   "codemirror_mode": {
    "name": "ipython",
    "version": 3
   },
   "file_extension": ".py",
   "mimetype": "text/x-python",
   "name": "python",
   "nbconvert_exporter": "python",
   "pygments_lexer": "ipython3",
   "version": "3.11.5"
  }
 },
 "nbformat": 4,
 "nbformat_minor": 5
}
